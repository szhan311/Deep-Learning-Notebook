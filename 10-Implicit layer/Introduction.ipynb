{
 "cells": [
  {
   "attachments": {},
   "cell_type": "markdown",
   "metadata": {},
   "source": [
    "### Self attentation\n",
    "$Z = \\text{selfAttenetation}(K, Q, V) = \\text{softmax}(\\frac{KQ^T}{\\sqrt n})V$"
   ]
  },
  {
   "cell_type": "code",
   "execution_count": 4,
   "metadata": {},
   "outputs": [
    {
     "name": "stdout",
     "output_type": "stream",
     "text": [
      "(5, 4)\n",
      "[[5.58149456e+01 7.41167631e-01 2.93922329e+00 1.42303012e+00\n",
      "  1.89041928e+01]\n",
      " [2.40383312e-02 5.20850635e-01 2.62895187e-02 1.70471711e+01\n",
      "  3.22060490e+00]\n",
      " [5.51936863e-01 9.51204544e-02 9.58497645e-01 7.24698179e-02\n",
      "  3.51180154e-02]\n",
      " [6.52634927e-01 8.46132961e-02 1.66325340e+00 2.00631635e-01\n",
      "  2.96870895e-01]\n",
      " [2.35449901e-01 1.50756941e-01 7.16172257e-02 1.60799930e+00\n",
      "  1.91898594e-01]]\n",
      "[[ 3.72681757e-01  3.64934533e+00  4.07174681e+00  9.73026142e+00]\n",
      " [-5.02397306e+00 -1.50204966e+00 -1.83669254e+00  4.99259810e+00]\n",
      " [ 7.78499976e-03 -6.54937993e-01  6.09977517e-01 -2.59947019e-01]\n",
      " [-4.89084953e-03 -1.06492184e+00  1.08413429e+00 -3.26817974e-01]\n",
      " [-4.73841419e-01 -2.27580746e-01 -1.44999878e-01  4.01781815e-01]]\n"
     ]
    }
   ],
   "source": [
    "import numpy as np\n",
    "\n",
    "def self_attentation(K,Q,V):\n",
    "      A = np.exp(K @ Q.T)/np.sqrt(K.shape[1])\n",
    "      return (A/ np.sum(A,1)) @ V\n",
    "\n",
    "K, Q, V = np.random.randn(3,5,4)\n",
    "print(K.shape)\n",
    "print(self_attentation(K, Q, V))"
   ]
  },
  {
   "cell_type": "code",
   "execution_count": 8,
   "metadata": {},
   "outputs": [],
   "source": [
    "def softmax(A):\n",
    "    y = np.exp(A)\n",
    "    return y/ y.sum()"
   ]
  },
  {
   "cell_type": "code",
   "execution_count": 10,
   "metadata": {},
   "outputs": [
    {
     "data": {
      "text/plain": [
       "0.9999999999999998"
      ]
     },
     "execution_count": 10,
     "metadata": {},
     "output_type": "execute_result"
    }
   ],
   "source": [
    "A = np.random.randn(3,4)\n",
    "y = softmax(A)\n",
    "y.sum()"
   ]
  },
  {
   "cell_type": "code",
   "execution_count": null,
   "metadata": {},
   "outputs": [],
   "source": []
  }
 ],
 "metadata": {
  "kernelspec": {
   "display_name": "hnn",
   "language": "python",
   "name": "python3"
  },
  "language_info": {
   "codemirror_mode": {
    "name": "ipython",
    "version": 3
   },
   "file_extension": ".py",
   "mimetype": "text/x-python",
   "name": "python",
   "nbconvert_exporter": "python",
   "pygments_lexer": "ipython3",
   "version": "3.8.15"
  },
  "orig_nbformat": 4
 },
 "nbformat": 4,
 "nbformat_minor": 2
}
