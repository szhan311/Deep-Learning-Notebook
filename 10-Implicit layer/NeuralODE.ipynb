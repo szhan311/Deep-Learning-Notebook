{
 "cells": [
  {
   "attachments": {},
   "cell_type": "markdown",
   "metadata": {},
   "source": [
    "# Training a residual network"
   ]
  },
  {
   "cell_type": "code",
   "execution_count": 3,
   "metadata": {},
   "outputs": [
    {
     "ename": "AttributeError",
     "evalue": "partially initialized module 'jax' has no attribute '_src' (most likely due to a circular import)",
     "output_type": "error",
     "traceback": [
      "\u001b[0;31m---------------------------------------------------------------------------\u001b[0m",
      "\u001b[0;31mAttributeError\u001b[0m                            Traceback (most recent call last)",
      "Cell \u001b[0;32mIn[3], line 1\u001b[0m\n\u001b[0;32m----> 1\u001b[0m \u001b[39mimport\u001b[39;00m \u001b[39mjax\u001b[39;00m\u001b[39m.\u001b[39;00m\u001b[39mnumpy\u001b[39;00m \u001b[39mas\u001b[39;00m \u001b[39mjnp\u001b[39;00m\n",
      "File \u001b[0;32m~/miniforge3/envs/lnn/lib/python3.11/site-packages/jax/__init__.py:77\u001b[0m\n\u001b[1;32m     74\u001b[0m Device \u001b[39m=\u001b[39m _xc\u001b[39m.\u001b[39mDevice\n\u001b[1;32m     75\u001b[0m \u001b[39mdel\u001b[39;00m _xc\n\u001b[0;32m---> 77\u001b[0m \u001b[39mfrom\u001b[39;00m \u001b[39mjax\u001b[39;00m\u001b[39m.\u001b[39;00m\u001b[39m_src\u001b[39;00m\u001b[39m.\u001b[39;00m\u001b[39mapi\u001b[39;00m \u001b[39mimport\u001b[39;00m effects_barrier \u001b[39mas\u001b[39;00m effects_barrier\n\u001b[1;32m     78\u001b[0m \u001b[39mfrom\u001b[39;00m \u001b[39mjax\u001b[39;00m\u001b[39m.\u001b[39;00m\u001b[39m_src\u001b[39;00m\u001b[39m.\u001b[39;00m\u001b[39mapi\u001b[39;00m \u001b[39mimport\u001b[39;00m block_until_ready \u001b[39mas\u001b[39;00m block_until_ready\n\u001b[1;32m     79\u001b[0m \u001b[39mfrom\u001b[39;00m \u001b[39mjax\u001b[39;00m\u001b[39m.\u001b[39;00m\u001b[39m_src\u001b[39;00m\u001b[39m.\u001b[39;00m\u001b[39mapi\u001b[39;00m \u001b[39mimport\u001b[39;00m checkpoint \u001b[39mas\u001b[39;00m checkpoint\n",
      "File \u001b[0;32m~/miniforge3/envs/lnn/lib/python3.11/site-packages/jax/_src/api.py:44\u001b[0m\n\u001b[1;32m     40\u001b[0m \u001b[39mfrom\u001b[39;00m \u001b[39mjax\u001b[39;00m \u001b[39mimport\u001b[39;00m stages\n\u001b[1;32m     41\u001b[0m \u001b[39mfrom\u001b[39;00m \u001b[39mjax\u001b[39;00m\u001b[39m.\u001b[39;00m\u001b[39mtree_util\u001b[39;00m \u001b[39mimport\u001b[39;00m (tree_map, tree_flatten, tree_unflatten,\n\u001b[1;32m     42\u001b[0m                            tree_structure, tree_transpose, tree_leaves,\n\u001b[1;32m     43\u001b[0m                            Partial, PyTreeDef, all_leaves, keystr)\n\u001b[0;32m---> 44\u001b[0m \u001b[39mfrom\u001b[39;00m \u001b[39mjax\u001b[39;00m\u001b[39m.\u001b[39;00m\u001b[39m_src\u001b[39;00m \u001b[39mimport\u001b[39;00m callback \u001b[39mas\u001b[39;00m jcb\n\u001b[1;32m     45\u001b[0m \u001b[39mfrom\u001b[39;00m \u001b[39mjax\u001b[39;00m\u001b[39m.\u001b[39;00m\u001b[39m_src\u001b[39;00m \u001b[39mimport\u001b[39;00m core\n\u001b[1;32m     46\u001b[0m \u001b[39mfrom\u001b[39;00m \u001b[39mjax\u001b[39;00m\u001b[39m.\u001b[39;00m\u001b[39m_src\u001b[39;00m \u001b[39mimport\u001b[39;00m device_array\n",
      "File \u001b[0;32m~/miniforge3/envs/lnn/lib/python3.11/site-packages/jax/_src/callback.py:29\u001b[0m\n\u001b[1;32m     27\u001b[0m \u001b[39mfrom\u001b[39;00m \u001b[39mjax\u001b[39;00m\u001b[39m.\u001b[39;00m\u001b[39m_src\u001b[39;00m \u001b[39mimport\u001b[39;00m effects\n\u001b[1;32m     28\u001b[0m \u001b[39mfrom\u001b[39;00m \u001b[39mjax\u001b[39;00m\u001b[39m.\u001b[39;00m\u001b[39m_src\u001b[39;00m \u001b[39mimport\u001b[39;00m util\n\u001b[0;32m---> 29\u001b[0m \u001b[39mfrom\u001b[39;00m \u001b[39mjax\u001b[39;00m\u001b[39m.\u001b[39;00m\u001b[39m_src\u001b[39;00m \u001b[39mimport\u001b[39;00m dispatch\n\u001b[1;32m     30\u001b[0m \u001b[39mfrom\u001b[39;00m \u001b[39mjax\u001b[39;00m\u001b[39m.\u001b[39;00m\u001b[39m_src\u001b[39;00m\u001b[39m.\u001b[39;00m\u001b[39minterpreters\u001b[39;00m \u001b[39mimport\u001b[39;00m ad\n\u001b[1;32m     31\u001b[0m \u001b[39mfrom\u001b[39;00m \u001b[39mjax\u001b[39;00m\u001b[39m.\u001b[39;00m\u001b[39m_src\u001b[39;00m\u001b[39m.\u001b[39;00m\u001b[39minterpreters\u001b[39;00m \u001b[39mimport\u001b[39;00m batching\n",
      "File \u001b[0;32m~/miniforge3/envs/lnn/lib/python3.11/site-packages/jax/_src/dispatch.py:36\u001b[0m\n\u001b[1;32m     33\u001b[0m \u001b[39mimport\u001b[39;00m \u001b[39mjax\u001b[39;00m\n\u001b[1;32m     34\u001b[0m \u001b[39mfrom\u001b[39;00m \u001b[39mjax\u001b[39;00m\u001b[39m.\u001b[39;00m\u001b[39mmonitoring\u001b[39;00m \u001b[39mimport\u001b[39;00m record_event_duration_secs\n\u001b[0;32m---> 36\u001b[0m \u001b[39mfrom\u001b[39;00m \u001b[39mjax\u001b[39;00m\u001b[39m.\u001b[39;00m\u001b[39m_src\u001b[39;00m \u001b[39mimport\u001b[39;00m array\n\u001b[1;32m     37\u001b[0m \u001b[39mfrom\u001b[39;00m \u001b[39mjax\u001b[39;00m\u001b[39m.\u001b[39;00m\u001b[39m_src\u001b[39;00m \u001b[39mimport\u001b[39;00m core\n\u001b[1;32m     38\u001b[0m \u001b[39mfrom\u001b[39;00m \u001b[39mjax\u001b[39;00m\u001b[39m.\u001b[39;00m\u001b[39m_src\u001b[39;00m \u001b[39mimport\u001b[39;00m dtypes\n",
      "File \u001b[0;32m~/miniforge3/envs/lnn/lib/python3.11/site-packages/jax/_src/array.py:38\u001b[0m\n\u001b[1;32m     36\u001b[0m \u001b[39mfrom\u001b[39;00m \u001b[39mjax\u001b[39;00m\u001b[39m.\u001b[39;00m\u001b[39m_src\u001b[39;00m\u001b[39m.\u001b[39;00m\u001b[39mtyping\u001b[39;00m \u001b[39mimport\u001b[39;00m ArrayLike\n\u001b[1;32m     37\u001b[0m \u001b[39mfrom\u001b[39;00m \u001b[39mjax\u001b[39;00m\u001b[39m.\u001b[39;00m\u001b[39minterpreters\u001b[39;00m \u001b[39mimport\u001b[39;00m mlir\n\u001b[0;32m---> 38\u001b[0m \u001b[39mfrom\u001b[39;00m \u001b[39mjax\u001b[39;00m\u001b[39m.\u001b[39;00m\u001b[39m_src\u001b[39;00m\u001b[39m.\u001b[39;00m\u001b[39minterpreters\u001b[39;00m \u001b[39mimport\u001b[39;00m pxla\n\u001b[1;32m     39\u001b[0m \u001b[39mfrom\u001b[39;00m \u001b[39mjax\u001b[39;00m\u001b[39m.\u001b[39;00m\u001b[39m_src\u001b[39;00m\u001b[39m.\u001b[39;00m\u001b[39minterpreters\u001b[39;00m \u001b[39mimport\u001b[39;00m xla\n\u001b[1;32m     40\u001b[0m \u001b[39mfrom\u001b[39;00m \u001b[39mjax\u001b[39;00m\u001b[39m.\u001b[39;00m\u001b[39m_src\u001b[39;00m\u001b[39m.\u001b[39;00m\u001b[39msharding\u001b[39;00m \u001b[39mimport\u001b[39;00m Sharding\n",
      "File \u001b[0;32m~/miniforge3/envs/lnn/lib/python3.11/site-packages/jax/_src/interpreters/pxla.py:113\u001b[0m\n\u001b[1;32m    111\u001b[0m _UNSHARDED_INSTANCE \u001b[39m=\u001b[39m NoSharding()\n\u001b[1;32m    112\u001b[0m AvalDimSharding \u001b[39m=\u001b[39m Union[Unstacked, Chunked, NoSharding]\n\u001b[0;32m--> 113\u001b[0m Mesh \u001b[39m=\u001b[39m jax\u001b[39m.\u001b[39;49m_src\u001b[39m.\u001b[39mmesh\u001b[39m.\u001b[39mMesh\n\u001b[1;32m    114\u001b[0m MeshAxisName \u001b[39m=\u001b[39m mesh\u001b[39m.\u001b[39mMeshAxisName\n\u001b[1;32m    115\u001b[0m MeshDimAssignment \u001b[39m=\u001b[39m Union[ShardedAxis, Replicated]\n",
      "\u001b[0;31mAttributeError\u001b[0m: partially initialized module 'jax' has no attribute '_src' (most likely due to a circular import)"
     ]
    }
   ],
   "source": [
    "import jax.numpy as jnp"
   ]
  },
  {
   "cell_type": "code",
   "execution_count": null,
   "metadata": {},
   "outputs": [],
   "source": [
    "def mlp(params, inputs):\n",
    "    for w, b in params:\n",
    "        outputs = jnp.dot(inputs, w) + b\n",
    "        inputs = jnp.tanh(outputs)\n",
    "    return outputs"
   ]
  },
  {
   "cell_type": "code",
   "execution_count": null,
   "metadata": {},
   "outputs": [],
   "source": [
    "def resnet(params, inputs, depth):\n",
    "    for i in range(depth):\n",
    "        outputs = mlp(params, inputs) + inputs\n",
    "    return outputs"
   ]
  },
  {
   "cell_type": "code",
   "execution_count": null,
   "metadata": {},
   "outputs": [],
   "source": [
    "# loss, initializer and optimizer\n",
    "import numpy.random as npr\n",
    "from jax import jit, grad\n",
    "\n",
    "resnet_depth = 3\n",
    "def resnet_squared_loss(params, inputs, targets):\n",
    "  preds = resnet(params, inputs, resnet_depth)\n",
    "  return jnp.mean(jnp.sum((preds - targets)**2, axis=1))\n",
    "\n",
    "def init_random_params(scale, layer_sizes, rng=npr.RandomState(0)):\n",
    "  return [(scale * rng.randn(m, n), scale * rng.randn(n))\n",
    "          for m, n, in zip(layer_sizes[:-1], layer_sizes[1:])]\n",
    "\n",
    "# A simple gradient-descent optimizer.\n",
    "@jit\n",
    "def resnet_update(params, inputs, targets, step_size):\n",
    "  grads = grad(resnet_squared_loss)(params, inputs, targets)\n",
    "  return [(w - step_size * dw, b - step_size * db)\n",
    "          for (w, b), (dw, db) in zip(params, grads)]"
   ]
  },
  {
   "cell_type": "code",
   "execution_count": null,
   "metadata": {},
   "outputs": [],
   "source": [
    "# Toy 1D dataset.\n",
    "inputs = jnp.reshape(jnp.linspace(-2.0, 2.0, 10), (10, 1))\n",
    "targets = inputs**3 + 0.1 * inputs\n",
    "\n",
    "# Hyperparameters.\n",
    "layer_sizes = [1, 20, 1]\n",
    "param_scale = 1.0\n",
    "step_size = 0.01\n",
    "train_iters = 1000\n",
    "\n",
    "# Initialize and train.\n",
    "resnet_params = init_random_params(param_scale, layer_sizes)\n",
    "for i in range(train_iters):\n",
    "  resnet_params = resnet_update(resnet_params, inputs, targets,step_size)\n",
    "\n",
    "# Plot results.\n",
    "import matplotlib.pyplot as plt\n",
    "fig = plt.figure(figsize=(6, 4), dpi=150)\n",
    "ax = fig.gca()\n",
    "ax.scatter(inputs, targets, lw=0.5, color='green')\n",
    "fine_inputs = jnp.reshape(jnp.linspace(-3.0, 3.0, 100), (100, 1))\n",
    "ax.plot(fine_inputs, resnet(resnet_params, fine_inputs, resnet_depth), lw=0.5, color='blue')\n",
    "ax.set_xlabel('input')\n",
    "ax.set_ylabel('output')"
   ]
  }
 ],
 "metadata": {
  "kernelspec": {
   "display_name": "hnn",
   "language": "python",
   "name": "python3"
  },
  "language_info": {
   "codemirror_mode": {
    "name": "ipython",
    "version": 3
   },
   "file_extension": ".py",
   "mimetype": "text/x-python",
   "name": "python",
   "nbconvert_exporter": "python",
   "pygments_lexer": "ipython3",
   "version": "3.11.0"
  },
  "orig_nbformat": 4
 },
 "nbformat": 4,
 "nbformat_minor": 2
}
