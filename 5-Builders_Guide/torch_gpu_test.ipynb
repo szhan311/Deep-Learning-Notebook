{
 "cells": [
  {
   "cell_type": "code",
   "execution_count": 34,
   "metadata": {},
   "outputs": [],
   "source": [
    "import torch\n",
    "from torch import nn\n",
    "import time"
   ]
  },
  {
   "cell_type": "code",
   "execution_count": 35,
   "metadata": {},
   "outputs": [
    {
     "data": {
      "text/plain": [
       "device(type='mps')"
      ]
     },
     "execution_count": 35,
     "metadata": {},
     "output_type": "execute_result"
    }
   ],
   "source": [
    "torch.device(\"mps\")"
   ]
  },
  {
   "cell_type": "code",
   "execution_count": 36,
   "metadata": {},
   "outputs": [
    {
     "data": {
      "text/plain": [
       "0"
      ]
     },
     "execution_count": 36,
     "metadata": {},
     "output_type": "execute_result"
    }
   ],
   "source": [
    "# check GPU numbers\n",
    "torch.cuda.device_count()"
   ]
  },
  {
   "cell_type": "code",
   "execution_count": 37,
   "metadata": {},
   "outputs": [
    {
     "name": "stdout",
     "output_type": "stream",
     "text": [
      "0.00026\n",
      "cpu\n"
     ]
    }
   ],
   "source": [
    "tic = time.time()\n",
    "x = torch.randn(1000,10)\n",
    "toc = time.time()\n",
    "print(f\"{toc - tic:.5f}\")\n",
    "print(x.device)"
   ]
  },
  {
   "cell_type": "code",
   "execution_count": 43,
   "metadata": {},
   "outputs": [
    {
     "name": "stdout",
     "output_type": "stream",
     "text": [
      "2.71230\n"
     ]
    }
   ],
   "source": [
    "x = torch.rand((10000, 10000), dtype=torch.float32)\n",
    "y = torch.rand((10000, 10000), dtype=torch.float32)\n",
    "tic = time.time()\n",
    "z = x @ y\n",
    "toc = time.time()\n",
    "print(f\"{toc - tic:.5f}\")\n"
   ]
  },
  {
   "cell_type": "code",
   "execution_count": 46,
   "metadata": {},
   "outputs": [
    {
     "name": "stdout",
     "output_type": "stream",
     "text": [
      "0.03536\n"
     ]
    }
   ],
   "source": [
    "device = torch.device(\"mps\")\n",
    "# x = x.to(device)\n",
    "# y = y.to(device)\n",
    "x = torch.rand((10000, 10000), dtype=torch.float32, device = device)\n",
    "y = torch.rand((10000, 10000), dtype=torch.float32, device = device)\n",
    "tic = time.time()\n",
    "z = x @ y\n",
    "toc = time.time()\n",
    "print(f\"{toc - tic:.5f}\")\n"
   ]
  },
  {
   "cell_type": "code",
   "execution_count": 47,
   "metadata": {},
   "outputs": [
    {
     "name": "stdout",
     "output_type": "stream",
     "text": [
      "mps:0\n"
     ]
    }
   ],
   "source": [
    "print(x.device)"
   ]
  }
 ],
 "metadata": {
  "kernelspec": {
   "display_name": "base",
   "language": "python",
   "name": "python3"
  },
  "language_info": {
   "codemirror_mode": {
    "name": "ipython",
    "version": 3
   },
   "file_extension": ".py",
   "mimetype": "text/x-python",
   "name": "python",
   "nbconvert_exporter": "python",
   "pygments_lexer": "ipython3",
   "version": "3.10.8"
  },
  "orig_nbformat": 4
 },
 "nbformat": 4,
 "nbformat_minor": 2
}
