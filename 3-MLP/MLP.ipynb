{
 "cells": [
  {
   "cell_type": "code",
   "execution_count": 36,
   "metadata": {},
   "outputs": [],
   "source": [
    "import torch\n",
    "import torch.nn as nn\n",
    "from torchvision.datasets import MNIST"
   ]
  },
  {
   "cell_type": "code",
   "execution_count": 37,
   "metadata": {},
   "outputs": [],
   "source": [
    "# Data Preproccessing\n",
    "# Training data\n",
    "N_train, N_test = 5000, 10000\n",
    "mnist_train = MNIST(root='../data', train=True)\n",
    "X_train, targets_train = mnist_train.data.view(-1,784).float(), mnist_train.targets\n",
    "y_train = torch.zeros((len(targets_train),10))\n",
    "for i in range(len(targets_train)):\n",
    "    y_train[i, targets_train[i]] = 1\n",
    "\n",
    "# test data\n",
    "mnist_test = MNIST(root='../data', train=False)\n",
    "X_test, targets_test = mnist_test.data.view(-1,784).float(), mnist_test.targets\n",
    "y_test = torch.zeros((len(targets_test),10))\n",
    "for i in range(len(targets_test)):\n",
    "    y_test[i, targets_test[i]] = 1"
   ]
  },
  {
   "cell_type": "code",
   "execution_count": 38,
   "metadata": {},
   "outputs": [],
   "source": [
    "# Model\n",
    "class MLP(nn.Module):\n",
    "    def __init__(self):\n",
    "        super(MLP, self).__init__()\n",
    "        self.linear1 = nn.Linear(784, 128)\n",
    "        self.linear2 = nn.Linear(128, 64)\n",
    "        self.linear3 = nn.Linear(64, 32)\n",
    "        self.linear4 = nn.Linear(32, 10)\n",
    "    def forward(self, x):\n",
    "        h = nn.functional.relu(self.linear1(x))\n",
    "        h = nn.functional.relu(self.linear2(h))\n",
    "        h = nn.functional.relu(self.linear3(h))\n",
    "        y = nn.functional.softmax(self.linear4(h))\n",
    "        return y"
   ]
  },
  {
   "cell_type": "code",
   "execution_count": 40,
   "metadata": {},
   "outputs": [
    {
     "name": "stderr",
     "output_type": "stream",
     "text": [
      "/var/folders/1l/s_0rbq615qb6cfhphk3n17km0000gn/T/ipykernel_48300/3833973419.py:13: UserWarning: Implicit dimension choice for softmax has been deprecated. Change the call to include dim=X as an argument.\n",
      "  y = nn.functional.softmax(self.linear4(h))\n"
     ]
    },
    {
     "name": "stdout",
     "output_type": "stream",
     "text": [
      "Epoch: [20/1000], Loss: 1.7492\n",
      "Epoch: [40/1000], Loss: 1.6189\n",
      "Epoch: [60/1000], Loss: 1.6008\n",
      "Epoch: [80/1000], Loss: 1.5915\n",
      "Epoch: [100/1000], Loss: 1.5851\n",
      "Epoch: [120/1000], Loss: 1.5812\n",
      "Epoch: [140/1000], Loss: 1.5782\n",
      "Epoch: [160/1000], Loss: 1.5758\n",
      "Epoch: [180/1000], Loss: 1.5738\n",
      "Epoch: [200/1000], Loss: 1.5724\n",
      "Epoch: [220/1000], Loss: 1.5711\n",
      "Epoch: [240/1000], Loss: 1.5704\n",
      "Epoch: [260/1000], Loss: 1.5698\n",
      "Epoch: [280/1000], Loss: 1.5692\n",
      "Epoch: [300/1000], Loss: 1.4995\n",
      "Epoch: [320/1000], Loss: 1.4793\n",
      "Epoch: [340/1000], Loss: 1.4748\n",
      "Epoch: [360/1000], Loss: 1.4733\n",
      "Epoch: [380/1000], Loss: 1.4723\n",
      "Epoch: [400/1000], Loss: 1.4717\n",
      "Epoch: [420/1000], Loss: 1.4714\n",
      "Epoch: [440/1000], Loss: 1.4710\n",
      "Epoch: [460/1000], Loss: 1.4707\n",
      "Epoch: [480/1000], Loss: 1.4705\n",
      "Epoch: [500/1000], Loss: 1.4704\n",
      "Epoch: [520/1000], Loss: 1.4704\n",
      "Epoch: [540/1000], Loss: 1.4703\n",
      "Epoch: [560/1000], Loss: 1.4703\n",
      "Epoch: [580/1000], Loss: 1.4702\n",
      "Epoch: [600/1000], Loss: 1.4701\n",
      "Epoch: [620/1000], Loss: 1.4701\n",
      "Epoch: [640/1000], Loss: 1.4701\n",
      "Epoch: [660/1000], Loss: 1.4700\n",
      "Epoch: [680/1000], Loss: 1.4700\n",
      "Epoch: [700/1000], Loss: 1.4700\n",
      "Epoch: [720/1000], Loss: 1.4700\n",
      "Epoch: [740/1000], Loss: 1.4699\n",
      "Epoch: [760/1000], Loss: 1.4699\n",
      "Epoch: [780/1000], Loss: 1.4699\n",
      "Epoch: [800/1000], Loss: 1.4698\n",
      "Epoch: [820/1000], Loss: 1.4698\n",
      "Epoch: [840/1000], Loss: 1.4698\n",
      "Epoch: [860/1000], Loss: 1.4698\n",
      "Epoch: [880/1000], Loss: 1.4698\n",
      "Epoch: [900/1000], Loss: 1.4697\n",
      "Epoch: [920/1000], Loss: 1.4697\n",
      "Epoch: [940/1000], Loss: 1.4697\n",
      "Epoch: [960/1000], Loss: 1.4697\n",
      "Epoch: [980/1000], Loss: 1.4696\n",
      "Epoch: [1000/1000], Loss: 1.4696\n"
     ]
    }
   ],
   "source": [
    "# Config model, criterion and optimizer\n",
    "model = MLP()\n",
    "criterion = nn.CrossEntropyLoss()\n",
    "optimizer = torch.optim.Adam(model.parameters())\n",
    "\n",
    "# Traning\n",
    "num_epochs = 1000\n",
    "\n",
    "for epoch in range(num_epochs):\n",
    "    y_pred = model(X_train)\n",
    "    loss = criterion(y_pred,y_train)\n",
    "    optimizer.zero_grad()\n",
    "    loss.backward()\n",
    "    optimizer.step()\n",
    "    if (epoch + 1)%20 == 0:\n",
    "        print(f'Epoch: [{epoch + 1}/{num_epochs}], Loss: {loss.item():.4f}')"
   ]
  },
  {
   "cell_type": "code",
   "execution_count": 42,
   "metadata": {},
   "outputs": [
    {
     "name": "stdout",
     "output_type": "stream",
     "text": [
      "Test accuracy: 97.07%\n"
     ]
    },
    {
     "name": "stderr",
     "output_type": "stream",
     "text": [
      "/var/folders/1l/s_0rbq615qb6cfhphk3n17km0000gn/T/ipykernel_48300/3833973419.py:13: UserWarning: Implicit dimension choice for softmax has been deprecated. Change the call to include dim=X as an argument.\n",
      "  y = nn.functional.softmax(self.linear4(h))\n"
     ]
    }
   ],
   "source": [
    "# Prediction\n",
    "y_hat = model(X_test)\n",
    "target_hat = torch.max(y_hat, dim=-1)[1]\n",
    "acc = torch.sum(targets_test == target_hat)/N_test\n",
    "print(f\"Test accuracy: {acc * 100:.2f}%\")"
   ]
  }
 ],
 "metadata": {
  "kernelspec": {
   "display_name": "hnn",
   "language": "python",
   "name": "python3"
  },
  "language_info": {
   "codemirror_mode": {
    "name": "ipython",
    "version": 3
   },
   "file_extension": ".py",
   "mimetype": "text/x-python",
   "name": "python",
   "nbconvert_exporter": "python",
   "pygments_lexer": "ipython3",
   "version": "3.8.15"
  },
  "orig_nbformat": 4
 },
 "nbformat": 4,
 "nbformat_minor": 2
}
