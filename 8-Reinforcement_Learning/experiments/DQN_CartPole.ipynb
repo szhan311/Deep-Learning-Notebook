{
 "cells": [
  {
   "cell_type": "code",
   "execution_count": 3,
   "metadata": {},
   "outputs": [],
   "source": [
    "import sys,os\n",
    "from pathlib import Path\n",
    "curr_path = str(Path().absolute())\n",
    "parent_path = str(Path().absolute().parent)\n",
    "sys.path.append(parent_path)  # add current terminal path to sys.path\n",
    "import gym\n",
    "import torch\n",
    "import datetime\n",
    "import numpy as np\n",
    "from utils import save_results, make_dir\n",
    "from utils import plot_rewards\n",
    "from agents.dqn import DQN\n",
    "\n",
    "curr_time = datetime.datetime.now().strftime(\"%Y%m%d-%H%M%S\")  "
   ]
  },
  {
   "cell_type": "code",
   "execution_count": 4,
   "metadata": {},
   "outputs": [],
   "source": [
    "class Config:\n",
    "    ''' Congifuration\n",
    "    '''\n",
    "    def __init__(self):\n",
    "        ################################## 环境超参数 ###################################\n",
    "        self.algo_name = 'DQN'  # 算法名称\n",
    "        self.env_name = 'CartPole-v0'  # 环境名称\n",
    "        self.device = torch.device(\n",
    "            \"cuda\" if torch.cuda.is_available() else \"cpu\")  # 检测GPUgjgjlkhfsf风刀霜的撒发十\n",
    "        self.seed = 10 # 随机种子，置0则不设置随机种子\n",
    "        self.train_eps = 200  # 训练的回合数\n",
    "        self.test_eps = 30  # 测试的回合数\n",
    "        ################################################################################\n",
    "        \n",
    "        ################################## 算法超参数 ###################################\n",
    "        self.gamma = 0.95  # 强化学习中的折扣因子\n",
    "        self.epsilon_start = 0.90  # e-greedy策略中初始epsilon\n",
    "        self.epsilon_end = 0.01  # e-greedy策略中的终止epsilon\n",
    "        self.epsilon_decay = 500  # e-greedy策略中epsilon的衰减率\n",
    "        self.lr = 0.0001  # 学习率\n",
    "        self.memory_capacity = 100000  # 经验回放的容量\n",
    "        self.batch_size = 64  # mini-batch SGD中的批量大小\n",
    "        self.target_update = 4  # 目标网络的更新频率\n",
    "        self.hidden_dim = 256  # 网络隐藏层\n",
    "        ################################################################################\n",
    "\n",
    "        ################################# 保存结果相关参数 ##############################\n",
    "        self.result_path = curr_path + \"/outputs/\" + self.env_name + \\\n",
    "            '/' + curr_time + '/results/'  # 保存结果的路径\n",
    "        self.model_path = curr_path + \"/outputs/\" + self.env_name + \\\n",
    "            '/' + curr_time + '/models/'  # 保存模型的路径\n",
    "        self.save = True # 是否保存图片\n",
    "        ################################################################################"
   ]
  },
  {
   "cell_type": "code",
   "execution_count": 9,
   "metadata": {},
   "outputs": [],
   "source": [
    "def env_agent_config(cfg):\n",
    "    ''' 创建环境和智能体\n",
    "    '''\n",
    "    env = gym.make(cfg.env_name)  # 创建环境\n",
    "    state_dim = env.observation_space.shape[0]  # 状态维度\n",
    "    action_dim = env.action_space.n  # 动作维度\n",
    "    agent = DQN(state_dim, action_dim, cfg)  # 创建智能体\n",
    "    if cfg.seed !=0: # 设置随机种子\n",
    "        torch.manual_seed(cfg.seed)\n",
    "        # env.seed(cfg.seed)\n",
    "        np.random.seed(cfg.seed)\n",
    "    return env, agent"
   ]
  },
  {
   "cell_type": "code",
   "execution_count": 10,
   "metadata": {},
   "outputs": [],
   "source": [
    "def train(cfg, env, agent):\n",
    "    ''' 训练\n",
    "    '''\n",
    "    print('开始训练!')\n",
    "    print(f'环境：{cfg.env_name}, 算法：{cfg.algo_name}, 设备：{cfg.device}')\n",
    "    rewards = []  # 记录所有回合的奖励\n",
    "    ma_rewards = []  # 记录所有回合的滑动平均奖励\n",
    "    for i_ep in range(cfg.train_eps):\n",
    "        ep_reward = 0  # 记录一回合内的奖励\n",
    "        state = env.reset()  # 重置环境，返回初始状态\n",
    "        while True:\n",
    "            action = agent.choose_action(state)  # 选择动作\n",
    "            next_state, reward, done, _ = env.step(action)  # 更新环境，返回transition\n",
    "            agent.memory.push(state, action, reward,\n",
    "                              next_state, done)  # 保存transition\n",
    "            state = next_state  # 更新下一个状态\n",
    "            agent.update()  # 更新智能体\n",
    "            ep_reward += reward  # 累加奖励\n",
    "            if done:\n",
    "                break\n",
    "        if (i_ep + 1) % cfg.target_update == 0:  # 智能体目标网络更新\n",
    "            agent.target_net.load_state_dict(agent.policy_net.state_dict())\n",
    "        rewards.append(ep_reward)\n",
    "        if ma_rewards:\n",
    "            ma_rewards.append(0.9 * ma_rewards[-1] + 0.1 * ep_reward)\n",
    "        else:\n",
    "            ma_rewards.append(ep_reward)\n",
    "        if (i_ep + 1) % 10 == 0:\n",
    "            print('回合：{}/{}, 奖励：{}'.format(i_ep + 1, cfg.train_eps, ep_reward))\n",
    "    print('完成训练！')\n",
    "    env.close()\n",
    "    return rewards, ma_rewards\n",
    "\n",
    "\n",
    "def test(cfg, env, agent):\n",
    "    print('开始测试!')\n",
    "    print(f'环境：{cfg.env_name}, 算法：{cfg.algo_name}, 设备：{cfg.device}')\n",
    "    ############# 由于测试不需要使用epsilon-greedy策略，所以相应的值设置为0 ###############\n",
    "    cfg.epsilon_start = 0.0  # e-greedy策略中初始epsilon\n",
    "    cfg.epsilon_end = 0.0  # e-greedy策略中的终止epsilon\n",
    "    ################################################################################\n",
    "    rewards = []  # 记录所有回合的奖励\n",
    "    ma_rewards = []  # 记录所有回合的滑动平均奖励\n",
    "    for i_ep in range(cfg.test_eps):\n",
    "        ep_reward = 0  # 记录一回合内的奖励\n",
    "        state = env.reset()  # 重置环境，返回初始状态\n",
    "        while True:\n",
    "            action = agent.choose_action(state)  # 选择动作\n",
    "            next_state, reward, done, _ = env.step(action)  # 更新环境，返回transition\n",
    "            state = next_state  # 更新下一个状态\n",
    "            ep_reward += reward  # 累加奖励\n",
    "            if done:\n",
    "                break\n",
    "        rewards.append(ep_reward)\n",
    "        if ma_rewards:\n",
    "            ma_rewards.append(ma_rewards[-1] * 0.9 + ep_reward * 0.1)\n",
    "        else:\n",
    "            ma_rewards.append(ep_reward)\n",
    "        print(f\"回合：{i_ep+1}/{cfg.test_eps}，奖励：{ep_reward:.1f}\")\n",
    "    print('完成测试！')\n",
    "    env.close()\n",
    "    return rewards, ma_rewards\n"
   ]
  },
  {
   "cell_type": "code",
   "execution_count": 11,
   "metadata": {},
   "outputs": [
    {
     "name": "stdout",
     "output_type": "stream",
     "text": [
      "开始训练!\n",
      "环境：CartPole-v0, 算法：DQN, 设备：cpu\n"
     ]
    },
    {
     "name": "stderr",
     "output_type": "stream",
     "text": [
      "/Users/jayx/miniforge3/lib/python3.10/site-packages/gym/utils/passive_env_checker.py:233: DeprecationWarning: `np.bool8` is a deprecated alias for `np.bool_`.  (Deprecated NumPy 1.24)\n",
      "  if not isinstance(terminated, (bool, np.bool8)):\n"
     ]
    },
    {
     "ename": "ValueError",
     "evalue": "too many values to unpack (expected 4)",
     "output_type": "error",
     "traceback": [
      "\u001b[0;31m---------------------------------------------------------------------------\u001b[0m",
      "\u001b[0;31mValueError\u001b[0m                                Traceback (most recent call last)",
      "Cell \u001b[0;32mIn[11], line 4\u001b[0m\n\u001b[1;32m      2\u001b[0m \u001b[39m# 训练\u001b[39;00m\n\u001b[1;32m      3\u001b[0m env, agent \u001b[39m=\u001b[39m env_agent_config(cfg)\n\u001b[0;32m----> 4\u001b[0m rewards, ma_rewards \u001b[39m=\u001b[39m train(cfg, env, agent)\n\u001b[1;32m      5\u001b[0m make_dir(cfg\u001b[39m.\u001b[39mresult_path, cfg\u001b[39m.\u001b[39mmodel_path)  \u001b[39m# 创建保存结果和模型路径的文件夹\u001b[39;00m\n\u001b[1;32m      6\u001b[0m agent\u001b[39m.\u001b[39msave(path\u001b[39m=\u001b[39mcfg\u001b[39m.\u001b[39mmodel_path)  \u001b[39m# 保存模型\u001b[39;00m\n",
      "Cell \u001b[0;32mIn[10], line 13\u001b[0m, in \u001b[0;36mtrain\u001b[0;34m(cfg, env, agent)\u001b[0m\n\u001b[1;32m     11\u001b[0m \u001b[39mwhile\u001b[39;00m \u001b[39mTrue\u001b[39;00m:\n\u001b[1;32m     12\u001b[0m     action \u001b[39m=\u001b[39m agent\u001b[39m.\u001b[39mchoose_action(state)  \u001b[39m# 选择动作\u001b[39;00m\n\u001b[0;32m---> 13\u001b[0m     next_state, reward, done, _ \u001b[39m=\u001b[39m env\u001b[39m.\u001b[39mstep(action)  \u001b[39m# 更新环境，返回transition\u001b[39;00m\n\u001b[1;32m     14\u001b[0m     agent\u001b[39m.\u001b[39mmemory\u001b[39m.\u001b[39mpush(state, action, reward,\n\u001b[1;32m     15\u001b[0m                       next_state, done)  \u001b[39m# 保存transition\u001b[39;00m\n\u001b[1;32m     16\u001b[0m     state \u001b[39m=\u001b[39m next_state  \u001b[39m# 更新下一个状态\u001b[39;00m\n",
      "\u001b[0;31mValueError\u001b[0m: too many values to unpack (expected 4)"
     ]
    }
   ],
   "source": [
    "cfg = Config()\n",
    "# 训练\n",
    "env, agent = env_agent_config(cfg)\n",
    "rewards, ma_rewards = train(cfg, env, agent)\n",
    "make_dir(cfg.result_path, cfg.model_path)  # 创建保存结果和模型路径的文件夹\n",
    "agent.save(path=cfg.model_path)  # 保存模型\n",
    "save_results(rewards, ma_rewards, tag='train',\n",
    "                path=cfg.result_path)  # 保存结果\n",
    "plot_rewards(rewards, ma_rewards, cfg, tag=\"train\")  # 画出结果\n",
    "# 测试\n",
    "env, agent = env_agent_config(cfg)\n",
    "agent.load(path=cfg.model_path)  # 导入模型\n",
    "rewards, ma_rewards = test(cfg, env, agent)\n",
    "save_results(rewards, ma_rewards, tag='test',\n",
    "                path=cfg.result_path)  # 保存结果\n",
    "plot_rewards(rewards, ma_rewards, cfg, tag=\"test\")  # 画出结果\n"
   ]
  }
 ],
 "metadata": {
  "kernelspec": {
   "display_name": "base",
   "language": "python",
   "name": "python3"
  },
  "language_info": {
   "codemirror_mode": {
    "name": "ipython",
    "version": 3
   },
   "file_extension": ".py",
   "mimetype": "text/x-python",
   "name": "python",
   "nbconvert_exporter": "python",
   "pygments_lexer": "ipython3",
   "version": "3.10.8"
  },
  "orig_nbformat": 4
 },
 "nbformat": 4,
 "nbformat_minor": 2
}
