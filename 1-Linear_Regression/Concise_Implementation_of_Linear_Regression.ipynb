{
 "cells": [
  {
   "cell_type": "code",
   "execution_count": 63,
   "metadata": {},
   "outputs": [],
   "source": [
    "import numpy as np\n",
    "import torch"
   ]
  },
  {
   "cell_type": "code",
   "execution_count": 64,
   "metadata": {},
   "outputs": [
    {
     "data": {
      "text/plain": [
       "torch.Size([1000, 1])"
      ]
     },
     "execution_count": 64,
     "metadata": {},
     "output_type": "execute_result"
    }
   ],
   "source": [
    "def synthetic_data(w, n):\n",
    "    X = torch.normal(0,1,(n, len(w)))\n",
    "    y = torch.mv(X,w)\n",
    "    y += torch.normal(0.,0.01, y.shape)\n",
    "    return X, y.unsqueeze(dim=-1)\n",
    "\n",
    "n = 1000\n",
    "d = 2\n",
    "w_real = torch.tensor([2.5, 3.4])\n",
    "X, y = synthetic_data(w_real, n)\n",
    "y.shape"
   ]
  },
  {
   "cell_type": "code",
   "execution_count": 65,
   "metadata": {},
   "outputs": [],
   "source": [
    "# define the model\n",
    "class Linear_Regression(torch.nn.Module):\n",
    "    def __init__(self, output_dim=1):\n",
    "        super(Linear_Regression, self).__init__()\n",
    "        self.linear = torch.nn.LazyLinear(output_dim)\n",
    "        self.linear.weight.data.normal_(0, 0.01)\n",
    "    def forward(self, x):\n",
    "        return self.linear(x)"
   ]
  },
  {
   "cell_type": "code",
   "execution_count": 66,
   "metadata": {},
   "outputs": [
    {
     "name": "stderr",
     "output_type": "stream",
     "text": [
      "/Users/jayx/miniforge3/envs/hnn/lib/python3.8/site-packages/torch/nn/modules/lazy.py:180: UserWarning: Lazy modules are a new feature under heavy development so changes to the API or functionality can happen at any moment.\n",
      "  warnings.warn('Lazy modules are a new feature under heavy development '\n"
     ]
    }
   ],
   "source": [
    "# define the model, criterion and optimizer\n",
    "model = Linear_Regression()\n",
    "criterion = torch.nn.MSELoss()\n",
    "optimizer = torch.optim.SGD(model.parameters(), lr = 0.01)\n"
   ]
  },
  {
   "cell_type": "code",
   "execution_count": 67,
   "metadata": {},
   "outputs": [
    {
     "name": "stdout",
     "output_type": "stream",
     "text": [
      "Epoch: [50/1000], Loss: 2.4935\n",
      "Epoch: [100/1000], Loss: 0.3519\n",
      "Epoch: [150/1000], Loss: 0.0500\n",
      "Epoch: [200/1000], Loss: 0.0072\n",
      "Epoch: [250/1000], Loss: 0.0011\n",
      "Epoch: [300/1000], Loss: 0.0002\n",
      "Epoch: [350/1000], Loss: 0.0001\n",
      "Epoch: [400/1000], Loss: 0.0001\n",
      "Epoch: [450/1000], Loss: 0.0001\n",
      "Epoch: [500/1000], Loss: 0.0001\n",
      "Epoch: [550/1000], Loss: 0.0001\n",
      "Epoch: [600/1000], Loss: 0.0001\n",
      "Epoch: [650/1000], Loss: 0.0001\n",
      "Epoch: [700/1000], Loss: 0.0001\n",
      "Epoch: [750/1000], Loss: 0.0001\n",
      "Epoch: [800/1000], Loss: 0.0001\n",
      "Epoch: [850/1000], Loss: 0.0001\n",
      "Epoch: [900/1000], Loss: 0.0001\n",
      "Epoch: [950/1000], Loss: 0.0001\n",
      "Epoch: [1000/1000], Loss: 0.0001\n"
     ]
    }
   ],
   "source": [
    "num_epochs = 1000\n",
    "\n",
    "for epoch in range(num_epochs):\n",
    "    y_pred = model(X)\n",
    "    loss = criterion(y_pred,y)\n",
    "    optimizer.zero_grad()\n",
    "    loss.backward()\n",
    "    optimizer.step()\n",
    "    if (epoch + 1)%50 == 0:\n",
    "        print(f'Epoch: [{epoch + 1}/{num_epochs}], Loss: {loss.item():.4f}')\n",
    "    "
   ]
  }
 ],
 "metadata": {
  "kernelspec": {
   "display_name": "hnn",
   "language": "python",
   "name": "python3"
  },
  "language_info": {
   "codemirror_mode": {
    "name": "ipython",
    "version": 3
   },
   "file_extension": ".py",
   "mimetype": "text/x-python",
   "name": "python",
   "nbconvert_exporter": "python",
   "pygments_lexer": "ipython3",
   "version": "3.8.15"
  },
  "orig_nbformat": 4
 },
 "nbformat": 4,
 "nbformat_minor": 2
}
